{
 "cells": [
  {
   "cell_type": "code",
   "execution_count": 1,
   "metadata": {},
   "outputs": [],
   "source": [
    "import numpy as np\n",
    "import matplotlib.pyplot as plt\n",
    "import torch\n",
    "import torch.nn as nn\n",
    "from torch.utils import data\n",
    "from torch.autograd import Variable\n",
    "import torch.nn.functional as F"
   ]
  },
  {
   "cell_type": "markdown",
   "metadata": {},
   "source": [
    "# Decoy MNIST Lab\n",
    "\n",
    "## Load data (TODO: host online)"
   ]
  },
  {
   "cell_type": "code",
   "execution_count": 112,
   "metadata": {},
   "outputs": [],
   "source": [
    "cache = np.load('./decoy-mnist.npz')\n",
    "X, y, Xv, yv, Xt, yt = [cache[f] for f in sorted(cache.files)]"
   ]
  },
  {
   "cell_type": "markdown",
   "metadata": {},
   "source": [
    "## TODO: visualize the decoy MNIST dataset and explain what's going on"
   ]
  },
  {
   "cell_type": "markdown",
   "metadata": {},
   "source": [
    "## Define NN class & plotting methods"
   ]
  },
  {
   "cell_type": "code",
   "execution_count": 104,
   "metadata": {},
   "outputs": [],
   "source": [
    "class SimpleNeuralNetwork(nn.Module):\n",
    "    def __init__(self):\n",
    "        super(SimpleNeuralNetwork, self).__init__()\n",
    "        self.fc1 = nn.Linear(784, 50) \n",
    "        self.fc2 = nn.Linear(50, 30)  \n",
    "        self.fc3 = nn.Linear(30, 10)  \n",
    "        self.relu = nn.ReLU()\n",
    "    \n",
    "    def forward(self, x):\n",
    "        out = self.fc1(x)\n",
    "        out = self.relu(out)\n",
    "        out = self.fc2(out)\n",
    "        out = self.relu(out)\n",
    "        out = self.fc3(out)\n",
    "        return out\n",
    "      \n",
    "    def predict(self, x):\n",
    "        images = torch.Tensor(x)\n",
    "        logits = self(images)\n",
    "        return np.argmax(logits.data.numpy(), axis=1)\n",
    "      \n",
    "    def input_grads(self, x):\n",
    "        images = Variable(torch.Tensor(x), requires_grad=True)\n",
    "        logits = self(images)\n",
    "        logprobs = nn.functional.log_softmax(logits, 1)\n",
    "        logprobs.sum().backward()\n",
    "        return images.grad.data.numpy()\n",
    "      \n",
    "def one_hot(y):\n",
    "    values = np.arange(10)\n",
    "    return np.array([values == v for v in y]).astype(int)\n",
    "  \n",
    "def plot_grad(x):\n",
    "    lim = np.abs(x).max()\n",
    "    plt.imshow(x.reshape(-28,28), cmap='bwr', vmin=-lim, vmax=lim)\n",
    "    plt.xticks([])\n",
    "    plt.yticks([])\n",
    "\n",
    "def plot_digit(x):\n",
    "    lim = np.abs(x).max()\n",
    "    plt.imshow(x.reshape(-28,28), cmap='gray')\n",
    "    plt.xticks([])\n",
    "    plt.yticks([])"
   ]
  },
  {
   "cell_type": "markdown",
   "metadata": {},
   "source": [
    "## Train network on training data"
   ]
  },
  {
   "cell_type": "code",
   "execution_count": 91,
   "metadata": {},
   "outputs": [],
   "source": [
    "net = SimpleNeuralNetwork()\n",
    "loss_func = nn.BCEWithLogitsLoss()\n",
    "optimizer = torch.optim.Adam(net.parameters(), lr=0.001, weight_decay=0.01)  "
   ]
  },
  {
   "cell_type": "code",
   "execution_count": 92,
   "metadata": {},
   "outputs": [],
   "source": [
    "training_loader = data.DataLoader(\n",
    "    data.TensorDataset(\n",
    "        torch.Tensor(X),\n",
    "        torch.Tensor(one_hot(y))\n",
    "    ),\n",
    "    batch_size=256,\n",
    "    shuffle=True\n",
    ")"
   ]
  },
  {
   "cell_type": "code",
   "execution_count": 93,
   "metadata": {
    "scrolled": false
   },
   "outputs": [
    {
     "name": "stdout",
     "output_type": "stream",
     "text": [
      "Epoch 1, Loss: 0.0324\n",
      "Epoch 2, Loss: 0.0547\n",
      "Epoch 3, Loss: 0.0270\n",
      "Epoch 4, Loss: 0.0264\n",
      "Epoch 5, Loss: 0.0274\n",
      "Epoch 6, Loss: 0.0140\n",
      "Epoch 7, Loss: 0.0114\n",
      "Epoch 8, Loss: 0.0168\n",
      "Epoch 9, Loss: 0.0087\n",
      "Epoch 10, Loss: 0.0137\n"
     ]
    }
   ],
   "source": [
    "for epoch in range(10):\n",
    "    for i, (images, labels) in enumerate(training_loader):  \n",
    "        images = Variable(images.view(-1, 28*28))#.cuda()\n",
    "        labels = Variable(labels)#.cuda()\n",
    "        optimizer.zero_grad()\n",
    "        outputs = net(images)\n",
    "        loss = loss_func(outputs, labels)\n",
    "        loss.backward()\n",
    "        optimizer.step()\n",
    "    print('Epoch {}, Loss: {:.4f}'.format(epoch+1, loss.data)) "
   ]
  },
  {
   "cell_type": "markdown",
   "metadata": {},
   "source": [
    "## Examine validation and test accuracy"
   ]
  },
  {
   "cell_type": "code",
   "execution_count": 96,
   "metadata": {},
   "outputs": [
    {
     "name": "stdout",
     "output_type": "stream",
     "text": [
      "Validation accuracy: 0.9702\n"
     ]
    }
   ],
   "source": [
    "print(\"Validation accuracy:\", (net.predict(Xv) == yv).mean())"
   ]
  },
  {
   "cell_type": "code",
   "execution_count": 97,
   "metadata": {},
   "outputs": [
    {
     "name": "stdout",
     "output_type": "stream",
     "text": [
      "Test accuracy: 0.7327\n"
     ]
    }
   ],
   "source": [
    "print(\"Test accuracy:\", (net.predict(Xt) == yt).mean())"
   ]
  },
  {
   "cell_type": "markdown",
   "metadata": {},
   "source": [
    "Hmm... something seems to be amiss! Let's look at the model's saliency maps:"
   ]
  },
  {
   "cell_type": "code",
   "execution_count": 98,
   "metadata": {},
   "outputs": [],
   "source": [
    "grads = net.input_grads(Xt)"
   ]
  },
  {
   "cell_type": "code",
   "execution_count": 105,
   "metadata": {},
   "outputs": [
    {
     "data": {
      "image/png": "[encoded data removed]",
      "text/plain": [
       "<Figure size 720x144 with 20 Axes>"
      ]
     },
     "metadata": {},
     "output_type": "display_data"
    }
   ],
   "source": [
    "plt.figure(figsize=(10,2))\n",
    "for i in range(10):\n",
    "  plt.subplot(2,10,i+1)\n",
    "  plot_digit(Xt[i])\n",
    "for i in range(10):\n",
    "  plt.subplot(2,10,i+11)\n",
    "  plot_grad(grads[i])"
   ]
  },
  {
   "cell_type": "markdown",
   "metadata": {},
   "source": [
    "A lot of the focus seems to be on the corners!\n",
    "\n",
    "## Train a second model, this time on the test set!"
   ]
  },
  {
   "cell_type": "code",
   "execution_count": 113,
   "metadata": {},
   "outputs": [],
   "source": [
    "net2 = SimpleNeuralNetwork()\n",
    "optimizer2 = torch.optim.Adam(net2.parameters(), lr=0.001, weight_decay=0.01)  "
   ]
  },
  {
   "cell_type": "code",
   "execution_count": 114,
   "metadata": {},
   "outputs": [],
   "source": [
    "test_loader = data.DataLoader(\n",
    "    data.TensorDataset(\n",
    "        torch.Tensor(Xt),\n",
    "        torch.Tensor(one_hot(yt))\n",
    "    ),\n",
    "    batch_size=256,\n",
    "    shuffle=True\n",
    ")"
   ]
  },
  {
   "cell_type": "code",
   "execution_count": 115,
   "metadata": {},
   "outputs": [
    {
     "name": "stdout",
     "output_type": "stream",
     "text": [
      "Epoch 1, Loss: 0.1945\n",
      "Epoch 2, Loss: 0.1077\n",
      "Epoch 3, Loss: 0.0878\n",
      "Epoch 4, Loss: 0.0372\n",
      "Epoch 5, Loss: 0.0532\n",
      "Epoch 6, Loss: 0.0994\n",
      "Epoch 7, Loss: 0.0459\n",
      "Epoch 8, Loss: 0.0250\n",
      "Epoch 9, Loss: 0.0448\n",
      "Epoch 10, Loss: 0.0112\n",
      "Epoch 11, Loss: 0.0719\n",
      "Epoch 12, Loss: 0.0470\n",
      "Epoch 13, Loss: 0.0132\n",
      "Epoch 14, Loss: 0.0686\n",
      "Epoch 15, Loss: 0.0320\n",
      "Epoch 16, Loss: 0.0152\n",
      "Epoch 17, Loss: 0.0107\n",
      "Epoch 18, Loss: 0.0761\n",
      "Epoch 19, Loss: 0.0658\n",
      "Epoch 20, Loss: 0.0057\n"
     ]
    }
   ],
   "source": [
    "for epoch in range(20):\n",
    "    for i, (images, labels) in enumerate(test_loader):  \n",
    "        images = Variable(images.view(-1, 28*28))#.cuda()\n",
    "        labels = Variable(labels)#.cuda()\n",
    "        optimizer2.zero_grad()\n",
    "        outputs = net2(images)\n",
    "        loss = loss_func(outputs, labels)\n",
    "        loss.backward()\n",
    "        optimizer2.step()\n",
    "    print('Epoch {}, Loss: {:.4f}'.format(epoch+1, loss.data)) "
   ]
  },
  {
   "cell_type": "markdown",
   "metadata": {},
   "source": [
    "## Examine validation and test accuracy"
   ]
  },
  {
   "cell_type": "code",
   "execution_count": 120,
   "metadata": {},
   "outputs": [
    {
     "name": "stdout",
     "output_type": "stream",
     "text": [
      "Validation accuracy: 0.9239\n"
     ]
    }
   ],
   "source": [
    "print(\"Validation accuracy:\", (net2.predict(Xv)==yv).mean())"
   ]
  },
  {
   "cell_type": "code",
   "execution_count": 124,
   "metadata": {},
   "outputs": [
    {
     "name": "stdout",
     "output_type": "stream",
     "text": [
      "\"Test\" accuracy: 0.92628\n"
     ]
    }
   ],
   "source": [
    "print('\"Test\" accuracy:', (net2.predict(X)==y).mean())"
   ]
  },
  {
   "cell_type": "markdown",
   "metadata": {},
   "source": [
    "Aha, much more even!\n",
    "\n",
    "## Look at its gradients:"
   ]
  },
  {
   "cell_type": "code",
   "execution_count": 118,
   "metadata": {},
   "outputs": [],
   "source": [
    "grads2 = net2.input_grads(Xv)"
   ]
  },
  {
   "cell_type": "code",
   "execution_count": 119,
   "metadata": {},
   "outputs": [
    {
     "data": {
      "image/png": "[encoded data removed]",
      "text/plain": [
       "<Figure size 720x144 with 20 Axes>"
      ]
     },
     "metadata": {},
     "output_type": "display_data"
    }
   ],
   "source": [
    "plt.figure(figsize=(10,2))\n",
    "for i in range(10):\n",
    "  plt.subplot(2,10,i+1)\n",
    "  plot_digit(Xv[i])\n",
    "for i in range(10):\n",
    "  plt.subplot(2,10,i+11)\n",
    "  plot_grad(grads2[i])"
   ]
  },
  {
   "cell_type": "markdown",
   "metadata": {},
   "source": [
    "No corner splotches!"
   ]
  }
 ],
 "metadata": {
  "kernelspec": {
   "display_name": "Python 3",
   "language": "python",
   "name": "python3"
  },
  "language_info": {
   "codemirror_mode": {
    "name": "ipython",
    "version": 3
   },
   "file_extension": ".py",
   "mimetype": "text/x-python",
   "name": "python",
   "nbconvert_exporter": "python",
   "pygments_lexer": "ipython3",
   "version": "3.6.5"
  }
 },
 "nbformat": 4,
 "nbformat_minor": 2
}
